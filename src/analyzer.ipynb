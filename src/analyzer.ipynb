{
  "nbformat": 4,
  "nbformat_minor": 0,
  "metadata": {
    "colab": {
      "name": "analyzer.ipynb",
      "provenance": [],
      "collapsed_sections": []
    },
    "kernelspec": {
      "name": "python3",
      "display_name": "Python 3"
    },
    "language_info": {
      "name": "python"
    }
  },
  "cells": [
    {
      "cell_type": "code",
      "metadata": {
        "id": "jOfJ5F7nGZPY"
      },
      "source": [
        "!pip install aitextgen\n",
        "!pip install language-tool-python\n",
        "!pip install matplotlib"
      ],
      "execution_count": 52,
      "outputs": []
    },
    {
      "cell_type": "code",
      "metadata": {
        "id": "sIA2prnkGb5Z"
      },
      "source": [
        "# external packages\n",
        "from aitextgen.TokenDataset import TokenDataset\n",
        "from aitextgen.tokenizers import train_tokenizer\n",
        "from aitextgen.utils import GPT2ConfigCPU\n",
        "from aitextgen import aitextgen\n",
        "import matplotlib.pyplot as plt\n",
        "import language_tool_python\n",
        "\n",
        "# standard libraries\n",
        "import pickle\n",
        "from io import StringIO\n",
        "import sys\n"
      ],
      "execution_count": 57,
      "outputs": []
    },
    {
      "cell_type": "markdown",
      "metadata": {
        "id": "Qnv-9yvRg054"
      },
      "source": [
        "Load the model from a pickle file"
      ]
    },
    {
      "cell_type": "code",
      "metadata": {
        "id": "NlPp2fyCMuVe"
      },
      "source": [
        "with open(\"my_model.pkl\", \"rb\") as input_file:\n",
        "  ai = pickle.load(input_file)"
      ],
      "execution_count": 3,
      "outputs": []
    },
    {
      "cell_type": "markdown",
      "metadata": {
        "id": "BwGOaN5Dg6N1"
      },
      "source": [
        "Generate 500 outputs from the model and store them in a a list for later analysis. You can change the size of generated data as needed."
      ]
    },
    {
      "cell_type": "code",
      "metadata": {
        "id": "ejYddMj9fj9l"
      },
      "source": [
        "results = StringIO()\n",
        "sys.stdout = results\n",
        "ai.generate(500)\n",
        "output_string = results.getvalue()\n",
        "results_list = output_string.split(\"\\n==========\\n\")"
      ],
      "execution_count": 47,
      "outputs": []
    },
    {
      "cell_type": "markdown",
      "metadata": {
        "id": "HG2QnNuNhEzf"
      },
      "source": [
        "Preprocess the text in the output list to remove new line and tab characters and count the number of typos and gramatical mistakes in the text. The error counts and length of text are stored in a separate list in a tuple format.\n",
        "\n",
        "The following code is somewhat time consuming. Expect it to run for few minutes."
      ]
    },
    {
      "cell_type": "code",
      "metadata": {
        "id": "WU1BhJ-9ij98"
      },
      "source": [
        "# set up the grammar tool\n",
        "grammar_tool = language_tool_python.LanguageTool('en-US')"
      ],
      "execution_count": 48,
      "outputs": []
    },
    {
      "cell_type": "code",
      "metadata": {
        "id": "2FSPBlH8hTFj"
      },
      "source": [
        "data_results = []\n",
        "for item in results_list:\n",
        "  item.replace(\"\\n\", \" \")\n",
        "  item.replace(\"\\t\", \"\")\n",
        "  item_length = len(item)\n",
        "  error_count = len(grammar_tool.check(item))\n",
        "  data_results.append((error_count, item_length))\n"
      ],
      "execution_count": 49,
      "outputs": []
    },
    {
      "cell_type": "markdown",
      "metadata": {
        "id": "LDl-u4WWy8Cy"
      },
      "source": [
        "Graph data_results as a scatter plot to show the various datapoints."
      ]
    },
    {
      "cell_type": "code",
      "metadata": {
        "colab": {
          "base_uri": "https://localhost:8080/",
          "height": 279
        },
        "id": "CQZjYttjzA3S",
        "outputId": "8dd53fce-d8f2-4453-960c-86dd7ce6c670"
      },
      "source": [
        "plt.scatter(*zip(*data_results))\n",
        "plt.xlabel(\"Number of grammar and spelling errors\")\n",
        "plt.ylabel(\"Size of text in characters\")\n",
        "plt.savefig(\"plot.png\")\n",
        "plt.show()\n"
      ],
      "execution_count": 66,
      "outputs": [
        {
          "output_type": "display_data",
          "data": {
            "image/png": "[encoded data removed]",
            "text/plain": [
              "<Figure size 432x288 with 1 Axes>"
            ]
          },
          "metadata": {
            "needs_background": "light"
          }
        }
      ]
    },
    {
      "cell_type": "markdown",
      "metadata": {
        "id": "ri63fdEpjICb"
      },
      "source": [
        "Calculate error frequency for the entire dataset. Overall error frequency is calculated by dividing the total number of errors by the total number of characters in the generated data. The results will essentially say this: on average how many characters are generated before an error is encountered"
      ]
    },
    {
      "cell_type": "code",
      "metadata": {
        "colab": {
          "base_uri": "https://localhost:8080/",
          "height": 35
        },
        "id": "KIL9dQ-4joKb",
        "outputId": "c80adfce-bd6f-41c3-ef19-4cf78b679b6e"
      },
      "source": [
        "error_total = 0\n",
        "len_total = 0\n",
        "for data_tuple in data_results:\n",
        "  error_total += data_tuple[0]\n",
        "  len_total += data_tuple[1]\n",
        "\n",
        "\n",
        "error_freq = len_total/ error_total\n",
        "f\"Error frequency: {error_freq} characters per error\""
      ],
      "execution_count": 69,
      "outputs": [
        {
          "output_type": "execute_result",
          "data": {
            "application/vnd.google.colaboratory.intrinsic+json": {
              "type": "string"
            },
            "text/plain": [
              "'Error frequency: 28.78592764686359 characters per error'"
            ]
          },
          "metadata": {},
          "execution_count": 69
        }
      ]
    }
  ]
}